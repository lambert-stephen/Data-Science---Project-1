{
 "cells": [
  {
   "cell_type": "code",
   "execution_count": 2,
   "metadata": {},
   "outputs": [],
   "source": [
    "# Load libraries\n",
    "import pandas as pd\n",
    "# import numpy library as np \n",
    "import numpy as np\n",
    "import matplotlib.pyplot as plt\n",
    "from scipy.stats import ttest_ind\n",
    "import seaborn as sns"
   ]
  },
  {
   "cell_type": "code",
   "execution_count": 3,
   "metadata": {},
   "outputs": [
    {
     "data": {
      "text/html": [
       "<div>\n",
       "<style scoped>\n",
       "    .dataframe tbody tr th:only-of-type {\n",
       "        vertical-align: middle;\n",
       "    }\n",
       "\n",
       "    .dataframe tbody tr th {\n",
       "        vertical-align: top;\n",
       "    }\n",
       "\n",
       "    .dataframe thead th {\n",
       "        text-align: right;\n",
       "    }\n",
       "</style>\n",
       "<table border=\"1\" class=\"dataframe\">\n",
       "  <thead>\n",
       "    <tr style=\"text-align: right;\">\n",
       "      <th></th>\n",
       "      <th>State</th>\n",
       "      <th>County</th>\n",
       "      <th>FIPS</th>\n",
       "      <th>Total Population</th>\n",
       "      <th>Citizen Voting-Age Population</th>\n",
       "      <th>Percent White, not Hispanic or Latino</th>\n",
       "      <th>Percent Black, not Hispanic or Latino</th>\n",
       "      <th>Percent Hispanic or Latino</th>\n",
       "      <th>Percent Foreign Born</th>\n",
       "      <th>Percent Female</th>\n",
       "      <th>Percent Age 29 and Under</th>\n",
       "      <th>Percent Age 65 and Older</th>\n",
       "      <th>Median Household Income</th>\n",
       "      <th>Percent Unemployed</th>\n",
       "      <th>Percent Less than High School Degree</th>\n",
       "      <th>Percent Less than Bachelor's Degree</th>\n",
       "      <th>Percent Rural</th>\n",
       "    </tr>\n",
       "  </thead>\n",
       "  <tbody>\n",
       "    <tr>\n",
       "      <th>0</th>\n",
       "      <td>Wisconsin</td>\n",
       "      <td>La Crosse</td>\n",
       "      <td>55063</td>\n",
       "      <td>117538</td>\n",
       "      <td>0</td>\n",
       "      <td>90.537528</td>\n",
       "      <td>1.214075</td>\n",
       "      <td>1.724549</td>\n",
       "      <td>2.976059</td>\n",
       "      <td>51.171536</td>\n",
       "      <td>43.241335</td>\n",
       "      <td>14.702479</td>\n",
       "      <td>51477</td>\n",
       "      <td>4.796952</td>\n",
       "      <td>5.474767</td>\n",
       "      <td>67.529757</td>\n",
       "      <td>16.827753</td>\n",
       "    </tr>\n",
       "    <tr>\n",
       "      <th>1</th>\n",
       "      <td>Virginia</td>\n",
       "      <td>Alleghany</td>\n",
       "      <td>51005</td>\n",
       "      <td>15919</td>\n",
       "      <td>12705</td>\n",
       "      <td>91.940449</td>\n",
       "      <td>5.207614</td>\n",
       "      <td>1.432251</td>\n",
       "      <td>1.300333</td>\n",
       "      <td>51.077329</td>\n",
       "      <td>31.660280</td>\n",
       "      <td>23.902255</td>\n",
       "      <td>45538</td>\n",
       "      <td>4.560986</td>\n",
       "      <td>15.537543</td>\n",
       "      <td>83.711604</td>\n",
       "      <td>52.393846</td>\n",
       "    </tr>\n",
       "    <tr>\n",
       "      <th>2</th>\n",
       "      <td>Indiana</td>\n",
       "      <td>Fountain</td>\n",
       "      <td>18045</td>\n",
       "      <td>16741</td>\n",
       "      <td>12750</td>\n",
       "      <td>95.705155</td>\n",
       "      <td>0.400215</td>\n",
       "      <td>2.359477</td>\n",
       "      <td>1.547100</td>\n",
       "      <td>49.770026</td>\n",
       "      <td>35.899887</td>\n",
       "      <td>18.941521</td>\n",
       "      <td>45924</td>\n",
       "      <td>7.978789</td>\n",
       "      <td>12.032155</td>\n",
       "      <td>85.538940</td>\n",
       "      <td>65.951276</td>\n",
       "    </tr>\n",
       "    <tr>\n",
       "      <th>3</th>\n",
       "      <td>Ohio</td>\n",
       "      <td>Geauga</td>\n",
       "      <td>39055</td>\n",
       "      <td>94020</td>\n",
       "      <td>0</td>\n",
       "      <td>95.837056</td>\n",
       "      <td>1.256116</td>\n",
       "      <td>1.294405</td>\n",
       "      <td>2.578175</td>\n",
       "      <td>50.678579</td>\n",
       "      <td>36.281642</td>\n",
       "      <td>18.028079</td>\n",
       "      <td>74165</td>\n",
       "      <td>4.036902</td>\n",
       "      <td>8.928599</td>\n",
       "      <td>62.730824</td>\n",
       "      <td>63.968990</td>\n",
       "    </tr>\n",
       "    <tr>\n",
       "      <th>4</th>\n",
       "      <td>Wisconsin</td>\n",
       "      <td>Jackson</td>\n",
       "      <td>55053</td>\n",
       "      <td>20566</td>\n",
       "      <td>15835</td>\n",
       "      <td>86.662453</td>\n",
       "      <td>1.983857</td>\n",
       "      <td>3.082758</td>\n",
       "      <td>1.376058</td>\n",
       "      <td>46.649810</td>\n",
       "      <td>36.292911</td>\n",
       "      <td>17.587280</td>\n",
       "      <td>49608</td>\n",
       "      <td>5.569698</td>\n",
       "      <td>11.792912</td>\n",
       "      <td>86.129256</td>\n",
       "      <td>72.238251</td>\n",
       "    </tr>\n",
       "  </tbody>\n",
       "</table>\n",
       "</div>"
      ],
      "text/plain": [
       "       State     County   FIPS  Total Population  \\\n",
       "0  Wisconsin  La Crosse  55063            117538   \n",
       "1   Virginia  Alleghany  51005             15919   \n",
       "2    Indiana   Fountain  18045             16741   \n",
       "3       Ohio     Geauga  39055             94020   \n",
       "4  Wisconsin    Jackson  55053             20566   \n",
       "\n",
       "   Citizen Voting-Age Population  Percent White, not Hispanic or Latino  \\\n",
       "0                              0                              90.537528   \n",
       "1                          12705                              91.940449   \n",
       "2                          12750                              95.705155   \n",
       "3                              0                              95.837056   \n",
       "4                          15835                              86.662453   \n",
       "\n",
       "   Percent Black, not Hispanic or Latino  Percent Hispanic or Latino  \\\n",
       "0                               1.214075                    1.724549   \n",
       "1                               5.207614                    1.432251   \n",
       "2                               0.400215                    2.359477   \n",
       "3                               1.256116                    1.294405   \n",
       "4                               1.983857                    3.082758   \n",
       "\n",
       "   Percent Foreign Born  Percent Female  Percent Age 29 and Under  \\\n",
       "0              2.976059       51.171536                 43.241335   \n",
       "1              1.300333       51.077329                 31.660280   \n",
       "2              1.547100       49.770026                 35.899887   \n",
       "3              2.578175       50.678579                 36.281642   \n",
       "4              1.376058       46.649810                 36.292911   \n",
       "\n",
       "   Percent Age 65 and Older  Median Household Income  Percent Unemployed  \\\n",
       "0                 14.702479                    51477            4.796952   \n",
       "1                 23.902255                    45538            4.560986   \n",
       "2                 18.941521                    45924            7.978789   \n",
       "3                 18.028079                    74165            4.036902   \n",
       "4                 17.587280                    49608            5.569698   \n",
       "\n",
       "   Percent Less than High School Degree  Percent Less than Bachelor's Degree  \\\n",
       "0                              5.474767                            67.529757   \n",
       "1                             15.537543                            83.711604   \n",
       "2                             12.032155                            85.538940   \n",
       "3                              8.928599                            62.730824   \n",
       "4                             11.792912                            86.129256   \n",
       "\n",
       "   Percent Rural  \n",
       "0      16.827753  \n",
       "1      52.393846  \n",
       "2      65.951276  \n",
       "3      63.968990  \n",
       "4      72.238251  "
      ]
     },
     "execution_count": 3,
     "metadata": {},
     "output_type": "execute_result"
    }
   ],
   "source": [
    "# Load dataset from demographics csv and display first five rows\n",
    "demo_data = pd.read_csv('demographics_train.csv')\n",
    "demo_data.head()"
   ]
  },
  {
   "cell_type": "code",
   "execution_count": 4,
   "metadata": {},
   "outputs": [
    {
     "data": {
      "text/html": [
       "<div>\n",
       "<style scoped>\n",
       "    .dataframe tbody tr th:only-of-type {\n",
       "        vertical-align: middle;\n",
       "    }\n",
       "\n",
       "    .dataframe tbody tr th {\n",
       "        vertical-align: top;\n",
       "    }\n",
       "\n",
       "    .dataframe thead th {\n",
       "        text-align: right;\n",
       "    }\n",
       "</style>\n",
       "<table border=\"1\" class=\"dataframe\">\n",
       "  <thead>\n",
       "    <tr style=\"text-align: right;\">\n",
       "      <th></th>\n",
       "      <th>Year</th>\n",
       "      <th>State</th>\n",
       "      <th>County</th>\n",
       "      <th>Office</th>\n",
       "      <th>Party</th>\n",
       "      <th>Votes</th>\n",
       "    </tr>\n",
       "  </thead>\n",
       "  <tbody>\n",
       "    <tr>\n",
       "      <th>0</th>\n",
       "      <td>2018</td>\n",
       "      <td>AZ</td>\n",
       "      <td>Apache County</td>\n",
       "      <td>US Senator</td>\n",
       "      <td>Democratic</td>\n",
       "      <td>16298</td>\n",
       "    </tr>\n",
       "    <tr>\n",
       "      <th>1</th>\n",
       "      <td>2018</td>\n",
       "      <td>AZ</td>\n",
       "      <td>Apache County</td>\n",
       "      <td>US Senator</td>\n",
       "      <td>Republican</td>\n",
       "      <td>7810</td>\n",
       "    </tr>\n",
       "    <tr>\n",
       "      <th>2</th>\n",
       "      <td>2018</td>\n",
       "      <td>AZ</td>\n",
       "      <td>Cochise County</td>\n",
       "      <td>US Senator</td>\n",
       "      <td>Democratic</td>\n",
       "      <td>17383</td>\n",
       "    </tr>\n",
       "    <tr>\n",
       "      <th>3</th>\n",
       "      <td>2018</td>\n",
       "      <td>AZ</td>\n",
       "      <td>Cochise County</td>\n",
       "      <td>US Senator</td>\n",
       "      <td>Republican</td>\n",
       "      <td>26929</td>\n",
       "    </tr>\n",
       "    <tr>\n",
       "      <th>4</th>\n",
       "      <td>2018</td>\n",
       "      <td>AZ</td>\n",
       "      <td>Coconino County</td>\n",
       "      <td>US Senator</td>\n",
       "      <td>Democratic</td>\n",
       "      <td>34240</td>\n",
       "    </tr>\n",
       "  </tbody>\n",
       "</table>\n",
       "</div>"
      ],
      "text/plain": [
       "   Year State           County      Office       Party  Votes\n",
       "0  2018    AZ    Apache County  US Senator  Democratic  16298\n",
       "1  2018    AZ    Apache County  US Senator  Republican   7810\n",
       "2  2018    AZ   Cochise County  US Senator  Democratic  17383\n",
       "3  2018    AZ   Cochise County  US Senator  Republican  26929\n",
       "4  2018    AZ  Coconino County  US Senator  Democratic  34240"
      ]
     },
     "execution_count": 4,
     "metadata": {},
     "output_type": "execute_result"
    }
   ],
   "source": [
    "# Load dataset from election csv and display first five rows\n",
    "elec_data = pd.read_csv('election_train.csv')\n",
    "elec_data.head()"
   ]
  },
  {
   "cell_type": "code",
   "execution_count": 5,
   "metadata": {
    "scrolled": true
   },
   "outputs": [
    {
     "data": {
      "text/html": [
       "<div>\n",
       "<style scoped>\n",
       "    .dataframe tbody tr th:only-of-type {\n",
       "        vertical-align: middle;\n",
       "    }\n",
       "\n",
       "    .dataframe tbody tr th {\n",
       "        vertical-align: top;\n",
       "    }\n",
       "\n",
       "    .dataframe thead th {\n",
       "        text-align: right;\n",
       "    }\n",
       "</style>\n",
       "<table border=\"1\" class=\"dataframe\">\n",
       "  <thead>\n",
       "    <tr style=\"text-align: right;\">\n",
       "      <th>Party</th>\n",
       "      <th>Year</th>\n",
       "      <th>State</th>\n",
       "      <th>County</th>\n",
       "      <th>Office</th>\n",
       "      <th>Democratic</th>\n",
       "      <th>Republican</th>\n",
       "    </tr>\n",
       "  </thead>\n",
       "  <tbody>\n",
       "    <tr>\n",
       "      <th>0</th>\n",
       "      <td>2018</td>\n",
       "      <td>AZ</td>\n",
       "      <td>Apache County</td>\n",
       "      <td>US Senator</td>\n",
       "      <td>16298.0</td>\n",
       "      <td>7810.0</td>\n",
       "    </tr>\n",
       "    <tr>\n",
       "      <th>1</th>\n",
       "      <td>2018</td>\n",
       "      <td>AZ</td>\n",
       "      <td>Cochise County</td>\n",
       "      <td>US Senator</td>\n",
       "      <td>17383.0</td>\n",
       "      <td>26929.0</td>\n",
       "    </tr>\n",
       "    <tr>\n",
       "      <th>2</th>\n",
       "      <td>2018</td>\n",
       "      <td>AZ</td>\n",
       "      <td>Coconino County</td>\n",
       "      <td>US Senator</td>\n",
       "      <td>34240.0</td>\n",
       "      <td>19249.0</td>\n",
       "    </tr>\n",
       "    <tr>\n",
       "      <th>3</th>\n",
       "      <td>2018</td>\n",
       "      <td>AZ</td>\n",
       "      <td>Gila County</td>\n",
       "      <td>US Senator</td>\n",
       "      <td>7643.0</td>\n",
       "      <td>12180.0</td>\n",
       "    </tr>\n",
       "    <tr>\n",
       "      <th>4</th>\n",
       "      <td>2018</td>\n",
       "      <td>AZ</td>\n",
       "      <td>Graham County</td>\n",
       "      <td>US Senator</td>\n",
       "      <td>3368.0</td>\n",
       "      <td>6870.0</td>\n",
       "    </tr>\n",
       "  </tbody>\n",
       "</table>\n",
       "</div>"
      ],
      "text/plain": [
       "Party  Year State           County      Office  Democratic  Republican\n",
       "0      2018    AZ    Apache County  US Senator     16298.0      7810.0\n",
       "1      2018    AZ   Cochise County  US Senator     17383.0     26929.0\n",
       "2      2018    AZ  Coconino County  US Senator     34240.0     19249.0\n",
       "3      2018    AZ      Gila County  US Senator      7643.0     12180.0\n",
       "4      2018    AZ    Graham County  US Senator      3368.0      6870.0"
      ]
     },
     "execution_count": 5,
     "metadata": {},
     "output_type": "execute_result"
    }
   ],
   "source": [
    "# 1. Reshape dataset election_train from long format to wide format. Hint: the\n",
    "#    reshaped dataset should contain 1205 rows and 6 columns\n",
    "elec_data_tidy = pd.pivot_table(elec_data, index=['Year', 'State', 'County', 'Office'], values='Votes', columns='Party').reset_index()\n",
    "elec_data_tidy.head()"
   ]
  },
  {
   "cell_type": "code",
   "execution_count": 6,
   "metadata": {},
   "outputs": [
    {
     "data": {
      "text/html": [
       "<div>\n",
       "<style scoped>\n",
       "    .dataframe tbody tr th:only-of-type {\n",
       "        vertical-align: middle;\n",
       "    }\n",
       "\n",
       "    .dataframe tbody tr th {\n",
       "        vertical-align: top;\n",
       "    }\n",
       "\n",
       "    .dataframe thead th {\n",
       "        text-align: right;\n",
       "    }\n",
       "</style>\n",
       "<table border=\"1\" class=\"dataframe\">\n",
       "  <thead>\n",
       "    <tr style=\"text-align: right;\">\n",
       "      <th>Party</th>\n",
       "      <th>Year</th>\n",
       "      <th>State</th>\n",
       "      <th>County</th>\n",
       "      <th>Office</th>\n",
       "      <th>Democratic</th>\n",
       "      <th>Republican</th>\n",
       "    </tr>\n",
       "  </thead>\n",
       "  <tbody>\n",
       "    <tr>\n",
       "      <th>0</th>\n",
       "      <td>2018</td>\n",
       "      <td>AZ</td>\n",
       "      <td>Apache</td>\n",
       "      <td>US Senator</td>\n",
       "      <td>16298.0</td>\n",
       "      <td>7810.0</td>\n",
       "    </tr>\n",
       "    <tr>\n",
       "      <th>1</th>\n",
       "      <td>2018</td>\n",
       "      <td>AZ</td>\n",
       "      <td>Cochise</td>\n",
       "      <td>US Senator</td>\n",
       "      <td>17383.0</td>\n",
       "      <td>26929.0</td>\n",
       "    </tr>\n",
       "    <tr>\n",
       "      <th>2</th>\n",
       "      <td>2018</td>\n",
       "      <td>AZ</td>\n",
       "      <td>Coconino</td>\n",
       "      <td>US Senator</td>\n",
       "      <td>34240.0</td>\n",
       "      <td>19249.0</td>\n",
       "    </tr>\n",
       "    <tr>\n",
       "      <th>3</th>\n",
       "      <td>2018</td>\n",
       "      <td>AZ</td>\n",
       "      <td>Gila</td>\n",
       "      <td>US Senator</td>\n",
       "      <td>7643.0</td>\n",
       "      <td>12180.0</td>\n",
       "    </tr>\n",
       "    <tr>\n",
       "      <th>4</th>\n",
       "      <td>2018</td>\n",
       "      <td>AZ</td>\n",
       "      <td>Graham</td>\n",
       "      <td>US Senator</td>\n",
       "      <td>3368.0</td>\n",
       "      <td>6870.0</td>\n",
       "    </tr>\n",
       "  </tbody>\n",
       "</table>\n",
       "</div>"
      ],
      "text/plain": [
       "Party  Year State    County      Office  Democratic  Republican\n",
       "0      2018    AZ    Apache  US Senator     16298.0      7810.0\n",
       "1      2018    AZ   Cochise  US Senator     17383.0     26929.0\n",
       "2      2018    AZ  Coconino  US Senator     34240.0     19249.0\n",
       "3      2018    AZ      Gila  US Senator      7643.0     12180.0\n",
       "4      2018    AZ    Graham  US Senator      3368.0      6870.0"
      ]
     },
     "execution_count": 6,
     "metadata": {},
     "output_type": "execute_result"
    }
   ],
   "source": [
    "# 2. Remove substring 'County' if it exists in any of the 'County' data from election table\n",
    "elec_data_tidy['County'] = elec_data_tidy['County'].apply(lambda x: x.replace(' County', ''))\n",
    "elec_data_tidy.head()"
   ]
  },
  {
   "cell_type": "code",
   "execution_count": 7,
   "metadata": {},
   "outputs": [
    {
     "data": {
      "text/html": [
       "<div>\n",
       "<style scoped>\n",
       "    .dataframe tbody tr th:only-of-type {\n",
       "        vertical-align: middle;\n",
       "    }\n",
       "\n",
       "    .dataframe tbody tr th {\n",
       "        vertical-align: top;\n",
       "    }\n",
       "\n",
       "    .dataframe thead th {\n",
       "        text-align: right;\n",
       "    }\n",
       "</style>\n",
       "<table border=\"1\" class=\"dataframe\">\n",
       "  <thead>\n",
       "    <tr style=\"text-align: right;\">\n",
       "      <th>Party</th>\n",
       "      <th>Year</th>\n",
       "      <th>State</th>\n",
       "      <th>County</th>\n",
       "      <th>Office</th>\n",
       "      <th>Democratic</th>\n",
       "      <th>Republican</th>\n",
       "    </tr>\n",
       "  </thead>\n",
       "  <tbody>\n",
       "    <tr>\n",
       "      <th>0</th>\n",
       "      <td>2018</td>\n",
       "      <td>Arizona</td>\n",
       "      <td>Apache</td>\n",
       "      <td>US Senator</td>\n",
       "      <td>16298.0</td>\n",
       "      <td>7810.0</td>\n",
       "    </tr>\n",
       "    <tr>\n",
       "      <th>1</th>\n",
       "      <td>2018</td>\n",
       "      <td>Arizona</td>\n",
       "      <td>Cochise</td>\n",
       "      <td>US Senator</td>\n",
       "      <td>17383.0</td>\n",
       "      <td>26929.0</td>\n",
       "    </tr>\n",
       "    <tr>\n",
       "      <th>2</th>\n",
       "      <td>2018</td>\n",
       "      <td>Arizona</td>\n",
       "      <td>Coconino</td>\n",
       "      <td>US Senator</td>\n",
       "      <td>34240.0</td>\n",
       "      <td>19249.0</td>\n",
       "    </tr>\n",
       "    <tr>\n",
       "      <th>3</th>\n",
       "      <td>2018</td>\n",
       "      <td>Arizona</td>\n",
       "      <td>Gila</td>\n",
       "      <td>US Senator</td>\n",
       "      <td>7643.0</td>\n",
       "      <td>12180.0</td>\n",
       "    </tr>\n",
       "    <tr>\n",
       "      <th>4</th>\n",
       "      <td>2018</td>\n",
       "      <td>Arizona</td>\n",
       "      <td>Graham</td>\n",
       "      <td>US Senator</td>\n",
       "      <td>3368.0</td>\n",
       "      <td>6870.0</td>\n",
       "    </tr>\n",
       "  </tbody>\n",
       "</table>\n",
       "</div>"
      ],
      "text/plain": [
       "Party  Year    State    County      Office  Democratic  Republican\n",
       "0      2018  Arizona    Apache  US Senator     16298.0      7810.0\n",
       "1      2018  Arizona   Cochise  US Senator     17383.0     26929.0\n",
       "2      2018  Arizona  Coconino  US Senator     34240.0     19249.0\n",
       "3      2018  Arizona      Gila  US Senator      7643.0     12180.0\n",
       "4      2018  Arizona    Graham  US Senator      3368.0      6870.0"
      ]
     },
     "execution_count": 7,
     "metadata": {},
     "output_type": "execute_result"
    }
   ],
   "source": [
    "# 2. Replace the abbreviated 'State' data from demographics table w/ its full abbreviation\n",
    "change_states = {\n",
    "    \"AL\": \"Alabama\",\n",
    "    \"AK\": \"Alaska\",\n",
    "    \"AS\": \"American Samoa\",\n",
    "    \"AZ\": \"Arizona\",\n",
    "    \"AR\": \"Arkansas\",\n",
    "    \"CA\": \"California\",\n",
    "    \"CO\": \"Colorado\",\n",
    "    \"CT\": \"Connecticut\",\n",
    "    \"DE\": \"Delaware\",\n",
    "    \"DC\": \"District Of Columbia\",\n",
    "    \"FM\": \"Federated States Of Micronesia\",\n",
    "    \"FL\": \"Florida\",\n",
    "    \"GA\": \"Georgia\",\n",
    "    \"GU\": \"Guam\",\n",
    "    \"HI\": \"Hawaii\",\n",
    "    \"ID\": \"Idaho\",\n",
    "    \"IL\": \"Illinois\",\n",
    "    \"IN\": \"Indiana\",\n",
    "    \"IA\": \"Iowa\",\n",
    "    \"KS\": \"Kansas\",\n",
    "    \"KY\": \"Kentucky\",\n",
    "    \"LA\": \"Louisiana\",\n",
    "    \"ME\": \"Maine\",\n",
    "    \"MH\": \"Marshall Islands\",\n",
    "    \"MD\": \"Maryland\",\n",
    "    \"MA\": \"Massachusetts\",\n",
    "    \"MI\": \"Michigan\",\n",
    "    \"MN\": \"Minnesota\",\n",
    "    \"MS\": \"Mississippi\",\n",
    "    \"MO\": \"Missouri\",\n",
    "    \"MT\": \"Montana\",\n",
    "    \"NE\": \"Nebraska\",\n",
    "    \"NV\": \"Nevada\",\n",
    "    \"NH\": \"New Hampshire\",\n",
    "    \"NJ\": \"New Jersey\",\n",
    "    \"NM\": \"New Mexico\",\n",
    "    \"NY\": \"New York\",\n",
    "    \"NC\": \"North Carolina\",\n",
    "    \"ND\": \"North Dakota\",\n",
    "    \"MP\": \"Northern Mariana Islands\",\n",
    "    \"OH\": \"Ohio\",\n",
    "    \"OK\": \"Oklahoma\",\n",
    "    \"OR\": \"Oregon\",\n",
    "    \"PW\": \"Palau\",\n",
    "    \"PA\": \"Pennsylvania\",\n",
    "    \"PR\": \"Puerto Rico\",\n",
    "    \"RI\": \"Rhode Island\",\n",
    "    \"SC\": \"South Carolina\",\n",
    "    \"SD\": \"South Dakota\",\n",
    "    \"TN\": \"Tennessee\",\n",
    "    \"TX\": \"Texas\",\n",
    "    \"UT\": \"Utah\",\n",
    "    \"VT\": \"Vermont\",\n",
    "    \"VI\": \"Virgin Islands\",\n",
    "    \"VA\": \"Virginia\",\n",
    "    \"WA\": \"Washington\",\n",
    "    \"WV\": \"West Virginia\",\n",
    "    \"WI\": \"Wisconsin\",\n",
    "    \"WY\": \"Wyoming\"\n",
    "}\n",
    "elec_data_tidy['State'] = elec_data_tidy['State'].map(change_states)\n",
    "elec_data_tidy.head()"
   ]
  },
  {
   "cell_type": "code",
   "execution_count": 8,
   "metadata": {},
   "outputs": [],
   "source": [
    "# 2. Lowercase all 'State' data from both tables\n",
    "elec_data_tidy['County'] = elec_data_tidy['County'].str.lower()\n",
    "demo_data['County'] = demo_data['County'].str.lower()"
   ]
  },
  {
   "cell_type": "code",
   "execution_count": 9,
   "metadata": {},
   "outputs": [
    {
     "data": {
      "text/html": [
       "<div>\n",
       "<style scoped>\n",
       "    .dataframe tbody tr th:only-of-type {\n",
       "        vertical-align: middle;\n",
       "    }\n",
       "\n",
       "    .dataframe tbody tr th {\n",
       "        vertical-align: top;\n",
       "    }\n",
       "\n",
       "    .dataframe thead th {\n",
       "        text-align: right;\n",
       "    }\n",
       "</style>\n",
       "<table border=\"1\" class=\"dataframe\">\n",
       "  <thead>\n",
       "    <tr style=\"text-align: right;\">\n",
       "      <th></th>\n",
       "      <th>Year</th>\n",
       "      <th>State</th>\n",
       "      <th>County</th>\n",
       "      <th>Office</th>\n",
       "      <th>Democratic</th>\n",
       "      <th>Republican</th>\n",
       "      <th>FIPS</th>\n",
       "      <th>Total Population</th>\n",
       "      <th>Citizen Voting-Age Population</th>\n",
       "      <th>Percent White, not Hispanic or Latino</th>\n",
       "      <th>...</th>\n",
       "      <th>Percent Hispanic or Latino</th>\n",
       "      <th>Percent Foreign Born</th>\n",
       "      <th>Percent Female</th>\n",
       "      <th>Percent Age 29 and Under</th>\n",
       "      <th>Percent Age 65 and Older</th>\n",
       "      <th>Median Household Income</th>\n",
       "      <th>Percent Unemployed</th>\n",
       "      <th>Percent Less than High School Degree</th>\n",
       "      <th>Percent Less than Bachelor's Degree</th>\n",
       "      <th>Percent Rural</th>\n",
       "    </tr>\n",
       "  </thead>\n",
       "  <tbody>\n",
       "    <tr>\n",
       "      <th>0</th>\n",
       "      <td>2018</td>\n",
       "      <td>Arizona</td>\n",
       "      <td>apache</td>\n",
       "      <td>US Senator</td>\n",
       "      <td>16298.0</td>\n",
       "      <td>7810.0</td>\n",
       "      <td>4001</td>\n",
       "      <td>72346</td>\n",
       "      <td>0</td>\n",
       "      <td>18.571863</td>\n",
       "      <td>...</td>\n",
       "      <td>5.947806</td>\n",
       "      <td>1.719515</td>\n",
       "      <td>50.598513</td>\n",
       "      <td>45.854643</td>\n",
       "      <td>13.322091</td>\n",
       "      <td>32460</td>\n",
       "      <td>15.807433</td>\n",
       "      <td>21.758252</td>\n",
       "      <td>88.941063</td>\n",
       "      <td>74.061076</td>\n",
       "    </tr>\n",
       "    <tr>\n",
       "      <th>1</th>\n",
       "      <td>2018</td>\n",
       "      <td>Arizona</td>\n",
       "      <td>cochise</td>\n",
       "      <td>US Senator</td>\n",
       "      <td>17383.0</td>\n",
       "      <td>26929.0</td>\n",
       "      <td>4003</td>\n",
       "      <td>128177</td>\n",
       "      <td>92915</td>\n",
       "      <td>56.299492</td>\n",
       "      <td>...</td>\n",
       "      <td>34.403208</td>\n",
       "      <td>11.458374</td>\n",
       "      <td>49.069646</td>\n",
       "      <td>37.902276</td>\n",
       "      <td>19.756275</td>\n",
       "      <td>45383</td>\n",
       "      <td>8.567108</td>\n",
       "      <td>13.409171</td>\n",
       "      <td>76.837055</td>\n",
       "      <td>36.301067</td>\n",
       "    </tr>\n",
       "    <tr>\n",
       "      <th>2</th>\n",
       "      <td>2018</td>\n",
       "      <td>Arizona</td>\n",
       "      <td>coconino</td>\n",
       "      <td>US Senator</td>\n",
       "      <td>34240.0</td>\n",
       "      <td>19249.0</td>\n",
       "      <td>4005</td>\n",
       "      <td>138064</td>\n",
       "      <td>104265</td>\n",
       "      <td>54.619597</td>\n",
       "      <td>...</td>\n",
       "      <td>13.711033</td>\n",
       "      <td>4.825298</td>\n",
       "      <td>50.581614</td>\n",
       "      <td>48.946141</td>\n",
       "      <td>10.873943</td>\n",
       "      <td>51106</td>\n",
       "      <td>8.238305</td>\n",
       "      <td>11.085381</td>\n",
       "      <td>65.791439</td>\n",
       "      <td>31.466066</td>\n",
       "    </tr>\n",
       "    <tr>\n",
       "      <th>3</th>\n",
       "      <td>2018</td>\n",
       "      <td>Arizona</td>\n",
       "      <td>gila</td>\n",
       "      <td>US Senator</td>\n",
       "      <td>7643.0</td>\n",
       "      <td>12180.0</td>\n",
       "      <td>4007</td>\n",
       "      <td>53179</td>\n",
       "      <td>0</td>\n",
       "      <td>63.222325</td>\n",
       "      <td>...</td>\n",
       "      <td>18.548675</td>\n",
       "      <td>4.249798</td>\n",
       "      <td>50.296170</td>\n",
       "      <td>32.238290</td>\n",
       "      <td>26.397638</td>\n",
       "      <td>40593</td>\n",
       "      <td>12.129932</td>\n",
       "      <td>15.729958</td>\n",
       "      <td>82.262624</td>\n",
       "      <td>41.062000</td>\n",
       "    </tr>\n",
       "    <tr>\n",
       "      <th>4</th>\n",
       "      <td>2018</td>\n",
       "      <td>Arizona</td>\n",
       "      <td>graham</td>\n",
       "      <td>US Senator</td>\n",
       "      <td>3368.0</td>\n",
       "      <td>6870.0</td>\n",
       "      <td>4009</td>\n",
       "      <td>37529</td>\n",
       "      <td>0</td>\n",
       "      <td>51.461536</td>\n",
       "      <td>...</td>\n",
       "      <td>32.097844</td>\n",
       "      <td>4.385942</td>\n",
       "      <td>46.313518</td>\n",
       "      <td>46.393456</td>\n",
       "      <td>12.315809</td>\n",
       "      <td>47422</td>\n",
       "      <td>14.424104</td>\n",
       "      <td>14.580797</td>\n",
       "      <td>86.675944</td>\n",
       "      <td>46.437399</td>\n",
       "    </tr>\n",
       "  </tbody>\n",
       "</table>\n",
       "<p>5 rows × 21 columns</p>\n",
       "</div>"
      ],
      "text/plain": [
       "   Year    State    County      Office  Democratic  Republican  FIPS  \\\n",
       "0  2018  Arizona    apache  US Senator     16298.0      7810.0  4001   \n",
       "1  2018  Arizona   cochise  US Senator     17383.0     26929.0  4003   \n",
       "2  2018  Arizona  coconino  US Senator     34240.0     19249.0  4005   \n",
       "3  2018  Arizona      gila  US Senator      7643.0     12180.0  4007   \n",
       "4  2018  Arizona    graham  US Senator      3368.0      6870.0  4009   \n",
       "\n",
       "   Total Population  Citizen Voting-Age Population  \\\n",
       "0             72346                              0   \n",
       "1            128177                          92915   \n",
       "2            138064                         104265   \n",
       "3             53179                              0   \n",
       "4             37529                              0   \n",
       "\n",
       "   Percent White, not Hispanic or Latino  ...  Percent Hispanic or Latino  \\\n",
       "0                              18.571863  ...                    5.947806   \n",
       "1                              56.299492  ...                   34.403208   \n",
       "2                              54.619597  ...                   13.711033   \n",
       "3                              63.222325  ...                   18.548675   \n",
       "4                              51.461536  ...                   32.097844   \n",
       "\n",
       "   Percent Foreign Born  Percent Female  Percent Age 29 and Under  \\\n",
       "0              1.719515       50.598513                 45.854643   \n",
       "1             11.458374       49.069646                 37.902276   \n",
       "2              4.825298       50.581614                 48.946141   \n",
       "3              4.249798       50.296170                 32.238290   \n",
       "4              4.385942       46.313518                 46.393456   \n",
       "\n",
       "   Percent Age 65 and Older  Median Household Income  Percent Unemployed  \\\n",
       "0                 13.322091                    32460           15.807433   \n",
       "1                 19.756275                    45383            8.567108   \n",
       "2                 10.873943                    51106            8.238305   \n",
       "3                 26.397638                    40593           12.129932   \n",
       "4                 12.315809                    47422           14.424104   \n",
       "\n",
       "   Percent Less than High School Degree  Percent Less than Bachelor's Degree  \\\n",
       "0                             21.758252                            88.941063   \n",
       "1                             13.409171                            76.837055   \n",
       "2                             11.085381                            65.791439   \n",
       "3                             15.729958                            82.262624   \n",
       "4                             14.580797                            86.675944   \n",
       "\n",
       "   Percent Rural  \n",
       "0      74.061076  \n",
       "1      36.301067  \n",
       "2      31.466066  \n",
       "3      41.062000  \n",
       "4      46.437399  \n",
       "\n",
       "[5 rows x 21 columns]"
      ]
     },
     "execution_count": 9,
     "metadata": {},
     "output_type": "execute_result"
    }
   ],
   "source": [
    "# 2. Merge reshaped dataset election_train with dataset demographics_train\n",
    "data = pd.merge(elec_data_tidy, demo_data, how='inner', on=['State', 'County'])\n",
    "data.head()"
   ]
  },
  {
   "cell_type": "code",
   "execution_count": 10,
   "metadata": {},
   "outputs": [
    {
     "name": "stdout",
     "output_type": "stream",
     "text": [
      "<class 'pandas.core.frame.DataFrame'>\n",
      "Int64Index: 1200 entries, 0 to 1199\n",
      "Data columns (total 21 columns):\n",
      " #   Column                                 Non-Null Count  Dtype  \n",
      "---  ------                                 --------------  -----  \n",
      " 0   Year                                   1200 non-null   int64  \n",
      " 1   State                                  1200 non-null   object \n",
      " 2   County                                 1200 non-null   object \n",
      " 3   Office                                 1200 non-null   object \n",
      " 4   Democratic                             1197 non-null   float64\n",
      " 5   Republican                             1198 non-null   float64\n",
      " 6   FIPS                                   1200 non-null   int64  \n",
      " 7   Total Population                       1200 non-null   int64  \n",
      " 8   Citizen Voting-Age Population          1200 non-null   int64  \n",
      " 9   Percent White, not Hispanic or Latino  1200 non-null   float64\n",
      " 10  Percent Black, not Hispanic or Latino  1200 non-null   float64\n",
      " 11  Percent Hispanic or Latino             1200 non-null   float64\n",
      " 12  Percent Foreign Born                   1200 non-null   float64\n",
      " 13  Percent Female                         1200 non-null   float64\n",
      " 14  Percent Age 29 and Under               1200 non-null   float64\n",
      " 15  Percent Age 65 and Older               1200 non-null   float64\n",
      " 16  Median Household Income                1200 non-null   int64  \n",
      " 17  Percent Unemployed                     1200 non-null   float64\n",
      " 18  Percent Less than High School Degree   1200 non-null   float64\n",
      " 19  Percent Less than Bachelor's Degree    1200 non-null   float64\n",
      " 20  Percent Rural                          1200 non-null   float64\n",
      "dtypes: float64(13), int64(5), object(3)\n",
      "memory usage: 206.2+ KB\n"
     ]
    }
   ],
   "source": [
    "# # Question: 3 (5 pts.) Explore the merged dataset. \n",
    "# # How many variables does the dataset have? \n",
    "# It has 19 variables and the rest 2 being the data we are examining based on those, \n",
    "# which is Democratic and Republican. \n",
    "# # What is the type of these variables? \n",
    "# The types the data is float64, int64, and objects.\n",
    "\n",
    "# # Are there any irrelevant or redundant variables? \n",
    "# The column Office and the column Year is redudant becuase they are all the same value,\n",
    "# and the column Citizen Voting-Age Population.\n",
    "# # If so, how will you deal with these variables?\n",
    "# I would get rid of the Office and Year column all together. \n",
    "# For the Citizen Voting-Age Population, \n",
    "# I would ignore it when determining, which column effects which state,\n",
    "# and its counties distribution of democratic and Republican. \n",
    "\n",
    "#prints out all the datas info and data type\n",
    "data.info()"
   ]
  },
  {
   "cell_type": "code",
   "execution_count": 11,
   "metadata": {},
   "outputs": [
    {
     "data": {
      "text/html": [
       "<div>\n",
       "<style scoped>\n",
       "    .dataframe tbody tr th:only-of-type {\n",
       "        vertical-align: middle;\n",
       "    }\n",
       "\n",
       "    .dataframe tbody tr th {\n",
       "        vertical-align: top;\n",
       "    }\n",
       "\n",
       "    .dataframe thead th {\n",
       "        text-align: right;\n",
       "    }\n",
       "</style>\n",
       "<table border=\"1\" class=\"dataframe\">\n",
       "  <thead>\n",
       "    <tr style=\"text-align: right;\">\n",
       "      <th></th>\n",
       "      <th>Year</th>\n",
       "      <th>State</th>\n",
       "      <th>County</th>\n",
       "      <th>Office</th>\n",
       "      <th>Democratic</th>\n",
       "      <th>Republican</th>\n",
       "      <th>FIPS</th>\n",
       "      <th>Total Population</th>\n",
       "      <th>Citizen Voting-Age Population</th>\n",
       "      <th>Percent White, not Hispanic or Latino</th>\n",
       "      <th>...</th>\n",
       "      <th>Percent Hispanic or Latino</th>\n",
       "      <th>Percent Foreign Born</th>\n",
       "      <th>Percent Female</th>\n",
       "      <th>Percent Age 29 and Under</th>\n",
       "      <th>Percent Age 65 and Older</th>\n",
       "      <th>Median Household Income</th>\n",
       "      <th>Percent Unemployed</th>\n",
       "      <th>Percent Less than High School Degree</th>\n",
       "      <th>Percent Less than Bachelor's Degree</th>\n",
       "      <th>Percent Rural</th>\n",
       "    </tr>\n",
       "  </thead>\n",
       "  <tbody>\n",
       "    <tr>\n",
       "      <th>0</th>\n",
       "      <td>False</td>\n",
       "      <td>False</td>\n",
       "      <td>False</td>\n",
       "      <td>False</td>\n",
       "      <td>False</td>\n",
       "      <td>False</td>\n",
       "      <td>False</td>\n",
       "      <td>False</td>\n",
       "      <td>False</td>\n",
       "      <td>False</td>\n",
       "      <td>...</td>\n",
       "      <td>False</td>\n",
       "      <td>False</td>\n",
       "      <td>False</td>\n",
       "      <td>False</td>\n",
       "      <td>False</td>\n",
       "      <td>False</td>\n",
       "      <td>False</td>\n",
       "      <td>False</td>\n",
       "      <td>False</td>\n",
       "      <td>False</td>\n",
       "    </tr>\n",
       "    <tr>\n",
       "      <th>1</th>\n",
       "      <td>False</td>\n",
       "      <td>False</td>\n",
       "      <td>False</td>\n",
       "      <td>False</td>\n",
       "      <td>False</td>\n",
       "      <td>False</td>\n",
       "      <td>False</td>\n",
       "      <td>False</td>\n",
       "      <td>False</td>\n",
       "      <td>False</td>\n",
       "      <td>...</td>\n",
       "      <td>False</td>\n",
       "      <td>False</td>\n",
       "      <td>False</td>\n",
       "      <td>False</td>\n",
       "      <td>False</td>\n",
       "      <td>False</td>\n",
       "      <td>False</td>\n",
       "      <td>False</td>\n",
       "      <td>False</td>\n",
       "      <td>False</td>\n",
       "    </tr>\n",
       "    <tr>\n",
       "      <th>2</th>\n",
       "      <td>False</td>\n",
       "      <td>False</td>\n",
       "      <td>False</td>\n",
       "      <td>False</td>\n",
       "      <td>False</td>\n",
       "      <td>False</td>\n",
       "      <td>False</td>\n",
       "      <td>False</td>\n",
       "      <td>False</td>\n",
       "      <td>False</td>\n",
       "      <td>...</td>\n",
       "      <td>False</td>\n",
       "      <td>False</td>\n",
       "      <td>False</td>\n",
       "      <td>False</td>\n",
       "      <td>False</td>\n",
       "      <td>False</td>\n",
       "      <td>False</td>\n",
       "      <td>False</td>\n",
       "      <td>False</td>\n",
       "      <td>False</td>\n",
       "    </tr>\n",
       "    <tr>\n",
       "      <th>3</th>\n",
       "      <td>False</td>\n",
       "      <td>False</td>\n",
       "      <td>False</td>\n",
       "      <td>False</td>\n",
       "      <td>False</td>\n",
       "      <td>False</td>\n",
       "      <td>False</td>\n",
       "      <td>False</td>\n",
       "      <td>False</td>\n",
       "      <td>False</td>\n",
       "      <td>...</td>\n",
       "      <td>False</td>\n",
       "      <td>False</td>\n",
       "      <td>False</td>\n",
       "      <td>False</td>\n",
       "      <td>False</td>\n",
       "      <td>False</td>\n",
       "      <td>False</td>\n",
       "      <td>False</td>\n",
       "      <td>False</td>\n",
       "      <td>False</td>\n",
       "    </tr>\n",
       "    <tr>\n",
       "      <th>4</th>\n",
       "      <td>False</td>\n",
       "      <td>False</td>\n",
       "      <td>False</td>\n",
       "      <td>False</td>\n",
       "      <td>False</td>\n",
       "      <td>False</td>\n",
       "      <td>False</td>\n",
       "      <td>False</td>\n",
       "      <td>False</td>\n",
       "      <td>False</td>\n",
       "      <td>...</td>\n",
       "      <td>False</td>\n",
       "      <td>False</td>\n",
       "      <td>False</td>\n",
       "      <td>False</td>\n",
       "      <td>False</td>\n",
       "      <td>False</td>\n",
       "      <td>False</td>\n",
       "      <td>False</td>\n",
       "      <td>False</td>\n",
       "      <td>False</td>\n",
       "    </tr>\n",
       "    <tr>\n",
       "      <th>...</th>\n",
       "      <td>...</td>\n",
       "      <td>...</td>\n",
       "      <td>...</td>\n",
       "      <td>...</td>\n",
       "      <td>...</td>\n",
       "      <td>...</td>\n",
       "      <td>...</td>\n",
       "      <td>...</td>\n",
       "      <td>...</td>\n",
       "      <td>...</td>\n",
       "      <td>...</td>\n",
       "      <td>...</td>\n",
       "      <td>...</td>\n",
       "      <td>...</td>\n",
       "      <td>...</td>\n",
       "      <td>...</td>\n",
       "      <td>...</td>\n",
       "      <td>...</td>\n",
       "      <td>...</td>\n",
       "      <td>...</td>\n",
       "      <td>...</td>\n",
       "    </tr>\n",
       "    <tr>\n",
       "      <th>1195</th>\n",
       "      <td>False</td>\n",
       "      <td>False</td>\n",
       "      <td>False</td>\n",
       "      <td>False</td>\n",
       "      <td>False</td>\n",
       "      <td>False</td>\n",
       "      <td>False</td>\n",
       "      <td>False</td>\n",
       "      <td>False</td>\n",
       "      <td>False</td>\n",
       "      <td>...</td>\n",
       "      <td>False</td>\n",
       "      <td>False</td>\n",
       "      <td>False</td>\n",
       "      <td>False</td>\n",
       "      <td>False</td>\n",
       "      <td>False</td>\n",
       "      <td>False</td>\n",
       "      <td>False</td>\n",
       "      <td>False</td>\n",
       "      <td>False</td>\n",
       "    </tr>\n",
       "    <tr>\n",
       "      <th>1196</th>\n",
       "      <td>False</td>\n",
       "      <td>False</td>\n",
       "      <td>False</td>\n",
       "      <td>False</td>\n",
       "      <td>False</td>\n",
       "      <td>False</td>\n",
       "      <td>False</td>\n",
       "      <td>False</td>\n",
       "      <td>False</td>\n",
       "      <td>False</td>\n",
       "      <td>...</td>\n",
       "      <td>False</td>\n",
       "      <td>False</td>\n",
       "      <td>False</td>\n",
       "      <td>False</td>\n",
       "      <td>False</td>\n",
       "      <td>False</td>\n",
       "      <td>False</td>\n",
       "      <td>False</td>\n",
       "      <td>False</td>\n",
       "      <td>False</td>\n",
       "    </tr>\n",
       "    <tr>\n",
       "      <th>1197</th>\n",
       "      <td>False</td>\n",
       "      <td>False</td>\n",
       "      <td>False</td>\n",
       "      <td>False</td>\n",
       "      <td>False</td>\n",
       "      <td>False</td>\n",
       "      <td>False</td>\n",
       "      <td>False</td>\n",
       "      <td>False</td>\n",
       "      <td>False</td>\n",
       "      <td>...</td>\n",
       "      <td>False</td>\n",
       "      <td>False</td>\n",
       "      <td>False</td>\n",
       "      <td>False</td>\n",
       "      <td>False</td>\n",
       "      <td>False</td>\n",
       "      <td>False</td>\n",
       "      <td>False</td>\n",
       "      <td>False</td>\n",
       "      <td>False</td>\n",
       "    </tr>\n",
       "    <tr>\n",
       "      <th>1198</th>\n",
       "      <td>False</td>\n",
       "      <td>False</td>\n",
       "      <td>False</td>\n",
       "      <td>False</td>\n",
       "      <td>False</td>\n",
       "      <td>False</td>\n",
       "      <td>False</td>\n",
       "      <td>False</td>\n",
       "      <td>False</td>\n",
       "      <td>False</td>\n",
       "      <td>...</td>\n",
       "      <td>False</td>\n",
       "      <td>False</td>\n",
       "      <td>False</td>\n",
       "      <td>False</td>\n",
       "      <td>False</td>\n",
       "      <td>False</td>\n",
       "      <td>False</td>\n",
       "      <td>False</td>\n",
       "      <td>False</td>\n",
       "      <td>False</td>\n",
       "    </tr>\n",
       "    <tr>\n",
       "      <th>1199</th>\n",
       "      <td>False</td>\n",
       "      <td>False</td>\n",
       "      <td>False</td>\n",
       "      <td>False</td>\n",
       "      <td>False</td>\n",
       "      <td>False</td>\n",
       "      <td>False</td>\n",
       "      <td>False</td>\n",
       "      <td>False</td>\n",
       "      <td>False</td>\n",
       "      <td>...</td>\n",
       "      <td>False</td>\n",
       "      <td>False</td>\n",
       "      <td>False</td>\n",
       "      <td>False</td>\n",
       "      <td>False</td>\n",
       "      <td>False</td>\n",
       "      <td>False</td>\n",
       "      <td>False</td>\n",
       "      <td>False</td>\n",
       "      <td>False</td>\n",
       "    </tr>\n",
       "  </tbody>\n",
       "</table>\n",
       "<p>1200 rows × 21 columns</p>\n",
       "</div>"
      ],
      "text/plain": [
       "       Year  State  County  Office  Democratic  Republican   FIPS  \\\n",
       "0     False  False   False   False       False       False  False   \n",
       "1     False  False   False   False       False       False  False   \n",
       "2     False  False   False   False       False       False  False   \n",
       "3     False  False   False   False       False       False  False   \n",
       "4     False  False   False   False       False       False  False   \n",
       "...     ...    ...     ...     ...         ...         ...    ...   \n",
       "1195  False  False   False   False       False       False  False   \n",
       "1196  False  False   False   False       False       False  False   \n",
       "1197  False  False   False   False       False       False  False   \n",
       "1198  False  False   False   False       False       False  False   \n",
       "1199  False  False   False   False       False       False  False   \n",
       "\n",
       "      Total Population  Citizen Voting-Age Population  \\\n",
       "0                False                          False   \n",
       "1                False                          False   \n",
       "2                False                          False   \n",
       "3                False                          False   \n",
       "4                False                          False   \n",
       "...                ...                            ...   \n",
       "1195             False                          False   \n",
       "1196             False                          False   \n",
       "1197             False                          False   \n",
       "1198             False                          False   \n",
       "1199             False                          False   \n",
       "\n",
       "      Percent White, not Hispanic or Latino  ...  Percent Hispanic or Latino  \\\n",
       "0                                     False  ...                       False   \n",
       "1                                     False  ...                       False   \n",
       "2                                     False  ...                       False   \n",
       "3                                     False  ...                       False   \n",
       "4                                     False  ...                       False   \n",
       "...                                     ...  ...                         ...   \n",
       "1195                                  False  ...                       False   \n",
       "1196                                  False  ...                       False   \n",
       "1197                                  False  ...                       False   \n",
       "1198                                  False  ...                       False   \n",
       "1199                                  False  ...                       False   \n",
       "\n",
       "      Percent Foreign Born  Percent Female  Percent Age 29 and Under  \\\n",
       "0                    False           False                     False   \n",
       "1                    False           False                     False   \n",
       "2                    False           False                     False   \n",
       "3                    False           False                     False   \n",
       "4                    False           False                     False   \n",
       "...                    ...             ...                       ...   \n",
       "1195                 False           False                     False   \n",
       "1196                 False           False                     False   \n",
       "1197                 False           False                     False   \n",
       "1198                 False           False                     False   \n",
       "1199                 False           False                     False   \n",
       "\n",
       "      Percent Age 65 and Older  Median Household Income  Percent Unemployed  \\\n",
       "0                        False                    False               False   \n",
       "1                        False                    False               False   \n",
       "2                        False                    False               False   \n",
       "3                        False                    False               False   \n",
       "4                        False                    False               False   \n",
       "...                        ...                      ...                 ...   \n",
       "1195                     False                    False               False   \n",
       "1196                     False                    False               False   \n",
       "1197                     False                    False               False   \n",
       "1198                     False                    False               False   \n",
       "1199                     False                    False               False   \n",
       "\n",
       "      Percent Less than High School Degree  \\\n",
       "0                                    False   \n",
       "1                                    False   \n",
       "2                                    False   \n",
       "3                                    False   \n",
       "4                                    False   \n",
       "...                                    ...   \n",
       "1195                                 False   \n",
       "1196                                 False   \n",
       "1197                                 False   \n",
       "1198                                 False   \n",
       "1199                                 False   \n",
       "\n",
       "      Percent Less than Bachelor's Degree  Percent Rural  \n",
       "0                                   False          False  \n",
       "1                                   False          False  \n",
       "2                                   False          False  \n",
       "3                                   False          False  \n",
       "4                                   False          False  \n",
       "...                                   ...            ...  \n",
       "1195                                False          False  \n",
       "1196                                False          False  \n",
       "1197                                False          False  \n",
       "1198                                False          False  \n",
       "1199                                False          False  \n",
       "\n",
       "[1200 rows x 21 columns]"
      ]
     },
     "execution_count": 11,
     "metadata": {},
     "output_type": "execute_result"
    }
   ],
   "source": [
    "# Question 4 (10 pts.) Search the merged dataset for missing values. \n",
    "# Are there any missing values? If so, how will you deal with these values?\n",
    "# ANS: There are missing values for the column Citizen Voting-Age Population\n",
    "# so, and I would possibly drop the ones that are empty.\n",
    "\n",
    "# Check for empty values in rows\n",
    "# It is not empty the data set. However, when data.head() is printed.\n",
    "# The results that certain counties do not keep account for the population of people \n",
    "# that are of the age to vote. \n",
    "data.isna()"
   ]
  },
  {
   "cell_type": "code",
   "execution_count": 12,
   "metadata": {},
   "outputs": [],
   "source": [
    "# Question (5 pts.) Create a new variable named “Party” that labels each county as Democratic or Republican. \n",
    "# This new variable should be equal to 1 if there were more votes cast for the Democratic party \n",
    "# than the Republican party in that county and it should be equal to 0 otherwise.\n",
    "\n",
    "data.loc[data['Democratic'] > data['Republican'], 'Party'] = 1\n",
    "data.loc[data['Democratic'] < data['Republican'], 'Party'] = 0"
   ]
  },
  {
   "cell_type": "code",
   "execution_count": 13,
   "metadata": {},
   "outputs": [
    {
     "name": "stdout",
     "output_type": "stream",
     "text": [
      "Democratic Mean Median Household Income: 53798.732307692306\n",
      "Republican Mean Median Household Income: 48746.81954022989\n",
      "Test Statistic = 5.479, p-value=0.000\n",
      "Different distributions.....reject null hypothesis\n"
     ]
    }
   ],
   "source": [
    "# Question 6.(10 pts.) Compute the mean median household income for Democratic counties and Republican counties. \n",
    "\n",
    "# Democratic Mean Median Household Income\n",
    "demMean = data.loc[data['Party'].isin([\"1.0\"]), 'Median Household Income'].mean()\n",
    "print(\"Democratic Mean Median Household Income:\",demMean)\n",
    "\n",
    "#Democratic Standard Deviation\n",
    "#demStd = data.loc[data['Party'].isin([\"1.0\"]), 'Median Household Income'].std()\n",
    "#print(\"Democratic Standard Deviation:\",demStd)\n",
    "\n",
    "#Republican Mean Median Household Income\n",
    "repMean = data.loc[data['Party'].isin([\"0.0\"]), 'Median Household Income'].mean()\n",
    "print(\"Republican Mean Median Household Income:\",repMean)\n",
    "\n",
    "#Republican Standard deviation\n",
    "#repStd = data.loc[data['Party'].isin([\"0.0\"]), 'Median Household Income'].std()\n",
    "#print(\"Republican Standard Deviation:\",repStd)\n",
    "\n",
    "# Which one is higher? Demcratic Counties\n",
    "\n",
    "#Perform a hypothesis test to determine whether this difference is statistically significant at the 𝜶 = 𝟎.𝟎𝟓 significance level.\n",
    "dems = data.loc[data['Party'].isin([\"1.0\"]), 'Median Household Income']\n",
    "reps = data.loc[data['Party'].isin([\"0.0\"]), 'Median Household Income']\n",
    "\n",
    "#Hypothesis Test\n",
    "stats, p = ttest_ind(dems, reps, equal_var = False)\n",
    "\n",
    "print('Test Statistic = %.3f, p-value=%.3f' % (stats, p))\n",
    "\n",
    "if p > 0.05:\n",
    "    print('Same distributions....fail to reject null hypothesis)')\n",
    "    \n",
    "else:\n",
    "    print('Different distributions.....reject null hypothesis')\n",
    "\n",
    "# What is the result of the test? The Test Statistic is 5.479, and the P value is 0.0\n",
    "\n",
    "#Note: If the 𝒑-value is less than the specified significance level, we say\n",
    "#      that the result is statistically significant.\n",
    "\n",
    "# What conclusion do you make from this result? The result is statistically significant\n"
   ]
  },
  {
   "cell_type": "code",
   "execution_count": 14,
   "metadata": {},
   "outputs": [
    {
     "name": "stdout",
     "output_type": "stream",
     "text": [
      "Democratic Mean of Total Population: 300998.3169230769\n",
      "Republican Mean of Total Population: 53864.6724137931\n",
      "Test Statistic = 5.479, p-value=0.000\n",
      "Different distributions.....reject null hypothesis\n"
     ]
    }
   ],
   "source": [
    "#Question 7. (10 pts.) Compute the mean population for Democratic counties and Republican counties. \n",
    "\n",
    "# Democratic Mean Total Population\n",
    "demPopulation = data.loc[data['Party'].isin([\"1.0\"]), 'Total Population'].mean()\n",
    "print(\"Democratic Mean of Total Population:\",demPopulation)\n",
    "\n",
    "#Republican Mean Total Population\n",
    "repPopulation = data.loc[data['Party'].isin([\"0.0\"]), 'Total Population'].mean()\n",
    "print(\"Republican Mean of Total Population:\",repPopulation)\n",
    "\n",
    "#Which one is higher? Democratic Counties\n",
    "\n",
    "#Perform a hypothesis test to determine whether this difference is statistically significant at the 𝜶 = 𝟎. 𝟎𝟓 significance level.\n",
    "demPop = data.loc[data['Party'].isin([\"1.0\"]), 'Total Population']\n",
    "repPop = data.loc[data['Party'].isin([\"0.0\"]), 'Total Population']\n",
    "\n",
    "#Hypothesis Test\n",
    "statsPop, pPop = ttest_ind(demPop, repPop, equal_var = False)\n",
    "\n",
    "print('Test Statistic = %.3f, p-value=%.3f' % (stats, pPop))\n",
    "\n",
    "if pPop > 0.05:\n",
    "    print('Same distributions....fail to reject null hypothesis)')\n",
    "    \n",
    "else:\n",
    "    print('Different distributions.....reject null hypothesis')\n",
    "    \n",
    "#What is the result of the test? The Test Statistic is 5.479, and the P value is 0.0\n",
    "\n",
    "#What conclusion do you make from this result? The result is statistically significant"
   ]
  },
  {
   "cell_type": "code",
   "execution_count": 15,
   "metadata": {},
   "outputs": [
    {
     "name": "stdout",
     "output_type": "stream",
     "text": [
      "Democratic Summary Statistics Age 29 and Under\n",
      "count    325.000000\n",
      "mean      38.726959\n",
      "std        6.252786\n",
      "min       23.156452\n",
      "25%       34.488444\n",
      "50%       38.074151\n",
      "75%       42.161162\n",
      "max       67.367823\n",
      "Name: Percent Age 29 and Under, dtype: float64\n",
      "\n",
      "\n",
      "Republican Summary Statistics Age 29 and Under\n",
      "count    870.000000\n",
      "mean      36.005719\n",
      "std        5.181522\n",
      "min       11.842105\n",
      "25%       32.983652\n",
      "50%       35.846532\n",
      "75%       38.539787\n",
      "max       58.749116\n",
      "Name: Percent Age 29 and Under, dtype: float64\n",
      "\n",
      "\n",
      "Democratic Summary Statistics Age 65 and Older\n",
      "count    325.000000\n",
      "mean      16.194826\n",
      "std        4.282422\n",
      "min        6.653188\n",
      "25%       13.106233\n",
      "50%       15.698087\n",
      "75%       18.806426\n",
      "max       31.642106\n",
      "Name: Percent Age 65 and Older, dtype: float64\n",
      "\n",
      "\n",
      "Republican Summary Statistics Age 65 and Older\n",
      "count    870.000000\n",
      "mean      18.828267\n",
      "std        4.733155\n",
      "min        6.954387\n",
      "25%       15.784982\n",
      "50%       18.377896\n",
      "75%       21.112847\n",
      "max       37.622759\n",
      "Name: Percent Age 65 and Older, dtype: float64\n"
     ]
    }
   ],
   "source": [
    "#Question 8 Summary Statistics\n",
    "\n",
    "#Democratic and Republican variables by age using describe\n",
    "demAge = data.loc[data['Party'].isin([\"1.0\"]), 'Percent Age 29 and Under'].describe()\n",
    "repAge = data.loc[data['Party'].isin([\"0.0\"]), 'Percent Age 29 and Under'].describe()\n",
    "demAge2 = data.loc[data['Party'].isin([\"1.0\"]), 'Percent Age 65 and Older'].describe()\n",
    "repAge2 = data.loc[data['Party'].isin([\"0.0\"]), 'Percent Age 65 and Older'].describe()\n",
    "#Print the statistics\n",
    "print(\"Democratic Summary Statistics Age 29 and Under\")\n",
    "print(demAge)\n",
    "print(\"\\n\")\n",
    "print(\"Republican Summary Statistics Age 29 and Under\")\n",
    "print(repAge)\n",
    "print(\"\\n\")\n",
    "print(\"Democratic Summary Statistics Age 65 and Older\")\n",
    "print(demAge2)\n",
    "print(\"\\n\")\n",
    "print(\"Republican Summary Statistics Age 65 and Older\")\n",
    "print(repAge2)"
   ]
  },
  {
   "cell_type": "code",
   "execution_count": 16,
   "metadata": {},
   "outputs": [
    {
     "name": "stdout",
     "output_type": "stream",
     "text": [
      "Democratic Summary Statistics by Gender\n",
      "count    325.000000\n",
      "mean      50.385433\n",
      "std        2.149359\n",
      "min       34.245291\n",
      "25%       49.854280\n",
      "50%       50.653830\n",
      "75%       51.492075\n",
      "max       56.418468\n",
      "Name: Percent Female, dtype: float64\n",
      "\n",
      "\n",
      "Republican Summary Statistics by Gender\n",
      "count    870.000000\n",
      "mean      49.630898\n",
      "std        2.429013\n",
      "min       21.513413\n",
      "25%       49.222905\n",
      "50%       50.176792\n",
      "75%       50.829770\n",
      "max       55.885023\n",
      "Name: Percent Female, dtype: float64\n"
     ]
    }
   ],
   "source": [
    "#Question 8 Summary Statistics\n",
    "\n",
    "#Democratic and Republican variables by Gender using describe\n",
    "demGender = data.loc[data['Party'].isin([\"1.0\"]), 'Percent Female'].describe()\n",
    "repGender = data.loc[data['Party'].isin([\"0.0\"]), 'Percent Female'].describe()\n",
    "#Print the statistics\n",
    "print(\"Democratic Summary Statistics by Gender\")\n",
    "print(demGender)\n",
    "print(\"\\n\")\n",
    "print(\"Republican Summary Statistics by Gender\")\n",
    "print(repGender)"
   ]
  },
  {
   "cell_type": "code",
   "execution_count": 17,
   "metadata": {},
   "outputs": [
    {
     "name": "stdout",
     "output_type": "stream",
     "text": [
      "Democratic Summary Statistics Percent White\n",
      "count    325.000000\n",
      "mean      69.683766\n",
      "std       24.981502\n",
      "min        2.776702\n",
      "25%       53.271579\n",
      "50%       77.786090\n",
      "75%       90.300749\n",
      "max       98.063495\n",
      "Name: Percent White, not Hispanic or Latino, dtype: float64\n",
      "\n",
      "\n",
      "Democratic Summary Statistics Percent Black\n",
      "count    325.000000\n",
      "mean       9.242649\n",
      "std       13.351340\n",
      "min        0.000000\n",
      "25%        0.839103\n",
      "50%        3.485992\n",
      "75%       11.058843\n",
      "max       63.953279\n",
      "Name: Percent Black, not Hispanic or Latino, dtype: float64\n",
      "\n",
      "\n",
      "Democratic Summary Statistics Percent Hispanic\n",
      "count    325.000000\n",
      "mean      12.587391\n",
      "std       19.575030\n",
      "min        0.193349\n",
      "25%        2.531017\n",
      "50%        5.039747\n",
      "75%       11.857116\n",
      "max       95.479801\n",
      "Name: Percent Hispanic or Latino, dtype: float64\n",
      "\n",
      "\n",
      "Republican Summary Statistics Percent White\n",
      "count    870.000000\n",
      "mean      82.656646\n",
      "std       16.056122\n",
      "min       18.758977\n",
      "25%       75.016397\n",
      "50%       89.434849\n",
      "75%       94.466596\n",
      "max       99.627329\n",
      "Name: Percent White, not Hispanic or Latino, dtype: float64\n",
      "\n",
      "\n",
      "Republican Summary Statistics Percent Black\n",
      "count    870.000000\n",
      "mean       4.189241\n",
      "std        6.721695\n",
      "min        0.000000\n",
      "25%        0.460419\n",
      "50%        1.318311\n",
      "75%        4.753831\n",
      "max       41.563041\n",
      "Name: Percent Black, not Hispanic or Latino, dtype: float64\n",
      "\n",
      "\n",
      "Republican Summary Statistics Percent Hispanic\n",
      "count    870.000000\n",
      "mean       9.733094\n",
      "std       14.049576\n",
      "min        0.000000\n",
      "25%        1.704539\n",
      "50%        3.427435\n",
      "75%       10.709696\n",
      "max       78.397012\n",
      "Name: Percent Hispanic or Latino, dtype: float64\n",
      "\n",
      "\n"
     ]
    }
   ],
   "source": [
    "#Question 8 Summary Statistics\n",
    "\n",
    "#Democratic and Republican variables by Race using describe\n",
    "demPercentWhite = data.loc[data['Party'].isin([\"1.0\"]), 'Percent White, not Hispanic or Latino'].describe()\n",
    "demPercentBlack = data.loc[data['Party'].isin([\"1.0\"]), 'Percent Black, not Hispanic or Latino'].describe()\n",
    "demPercentHispanic = data.loc[data['Party'].isin([\"1.0\"]), 'Percent Hispanic or Latino'].describe()\n",
    "repPercentWhite = data.loc[data['Party'].isin([\"0.0\"]), 'Percent White, not Hispanic or Latino'].describe()\n",
    "repPercentBlack = data.loc[data['Party'].isin([\"0.0\"]), 'Percent Black, not Hispanic or Latino'].describe()\n",
    "repPercentHispanic = data.loc[data['Party'].isin([\"0.0\"]), 'Percent Hispanic or Latino'].describe()\n",
    "#Print the statistics\n",
    "print(\"Democratic Summary Statistics Percent White\")\n",
    "print(demPercentWhite)\n",
    "print(\"\\n\")\n",
    "print(\"Democratic Summary Statistics Percent Black\")\n",
    "print(demPercentBlack)\n",
    "print(\"\\n\")\n",
    "print(\"Democratic Summary Statistics Percent Hispanic\")\n",
    "print(demPercentHispanic)\n",
    "print(\"\\n\")\n",
    "print(\"Republican Summary Statistics Percent White\")\n",
    "print(repPercentWhite)\n",
    "print(\"\\n\")\n",
    "print(\"Republican Summary Statistics Percent Black\")\n",
    "print(repPercentBlack)\n",
    "print(\"\\n\")\n",
    "print(\"Republican Summary Statistics Percent Hispanic\")\n",
    "print(repPercentHispanic)\n",
    "print(\"\\n\")\n"
   ]
  },
  {
   "cell_type": "code",
   "execution_count": 18,
   "metadata": {},
   "outputs": [
    {
     "name": "stdout",
     "output_type": "stream",
     "text": [
      "Democratic Summary Statistics With High School Degree\n",
      "count    325.000000\n",
      "mean      11.883760\n",
      "std        6.505613\n",
      "min        3.215803\n",
      "25%        7.893714\n",
      "50%       10.370080\n",
      "75%       13.637059\n",
      "max       49.673777\n",
      "Name: Percent Less than High School Degree, dtype: float64\n",
      "\n",
      "\n",
      "Democratic Summary Statistics With Bachelors Degree\n",
      "count    325.000000\n",
      "mean      71.968225\n",
      "std       11.192404\n",
      "min       26.335440\n",
      "25%       65.711800\n",
      "50%       72.736143\n",
      "75%       79.903653\n",
      "max       94.849957\n",
      "Name: Percent Less than Bachelor's Degree, dtype: float64\n",
      "\n",
      "\n",
      "Republican Summary Statistics With High School Degree\n",
      "count    870.000000\n",
      "mean      14.009112\n",
      "std        6.303126\n",
      "min        2.134454\n",
      "25%        9.662491\n",
      "50%       12.572435\n",
      "75%       17.447168\n",
      "max       47.812773\n",
      "Name: Percent Less than High School Degree, dtype: float64\n",
      "\n",
      "\n",
      "Republican Summary Statistics With Bachelors Degree\n",
      "count    870.000000\n",
      "mean      81.095427\n",
      "std        6.815537\n",
      "min       43.419470\n",
      "25%       78.108424\n",
      "50%       82.406700\n",
      "75%       85.546272\n",
      "max       97.014925\n",
      "Name: Percent Less than Bachelor's Degree, dtype: float64\n"
     ]
    }
   ],
   "source": [
    "#Question 8 Summary Statistics\n",
    "\n",
    "#Democratic and Republican variables by Education using describe\n",
    "demHighSchool = data.loc[data['Party'].isin([\"1.0\"]), 'Percent Less than High School Degree'].describe()\n",
    "demBachelors = data.loc[data['Party'].isin([\"1.0\"]), \"Percent Less than Bachelor's Degree\"].describe()\n",
    "repHighSchool = data.loc[data['Party'].isin([\"0.0\"]), 'Percent Less than High School Degree'].describe()\n",
    "repBachelors = data.loc[data['Party'].isin([\"0.0\"]), \"Percent Less than Bachelor's Degree\"].describe()\n",
    "#Print the statistics\n",
    "print(\"Democratic Summary Statistics With High School Degree\")\n",
    "print(demHighSchool)\n",
    "print(\"\\n\")\n",
    "print(\"Democratic Summary Statistics With Bachelors Degree\")\n",
    "print(demBachelors)\n",
    "print(\"\\n\")\n",
    "print(\"Republican Summary Statistics With High School Degree\")\n",
    "print(repHighSchool)\n",
    "print(\"\\n\")\n",
    "print(\"Republican Summary Statistics With Bachelors Degree\")\n",
    "print(repBachelors)"
   ]
  },
  {
   "cell_type": "code",
   "execution_count": 66,
   "metadata": {},
   "outputs": [
    {
     "name": "stdout",
     "output_type": "stream",
     "text": [
      "Visualizing Democratic Percent Age 29 and Under\n"
     ]
    },
    {
     "data": {
      "text/plain": [
       "<matplotlib.axes._subplots.AxesSubplot at 0x7fa1bc268910>"
      ]
     },
     "execution_count": 66,
     "metadata": {},
     "output_type": "execute_result"
    },
    {
     "data": {
      "image/png": "[encoded data removed]",
      "text/plain": [
       "<Figure size 432x288 with 1 Axes>"
      ]
     },
     "metadata": {
      "needs_background": "light"
     },
     "output_type": "display_data"
    }
   ],
   "source": [
    "#Question 8 Plots\n",
    "#Visualizing Summary Statistics by Age\n",
    "print(\"Visualizing Democratic Percent Age 29 and Under\")\n",
    "demAgeVisual = data.loc[data['Party'].isin([\"1.0\"]), 'Percent Age 29 and Under']\n",
    "demAgeVisual.plot(kind=\"box\")"
   ]
  },
  {
   "cell_type": "code",
   "execution_count": 51,
   "metadata": {},
   "outputs": [
    {
     "name": "stdout",
     "output_type": "stream",
     "text": [
      "Visualizing Republican Percent Age 29 and Under\n"
     ]
    },
    {
     "data": {
      "text/plain": [
       "<matplotlib.axes._subplots.AxesSubplot at 0x7fa1d5fe9880>"
      ]
     },
     "execution_count": 51,
     "metadata": {},
     "output_type": "execute_result"
    },
    {
     "data": {
      "image/png": "[encoded data removed]",
      "text/plain": [
       "<Figure size 432x288 with 1 Axes>"
      ]
     },
     "metadata": {
      "needs_background": "light"
     },
     "output_type": "display_data"
    }
   ],
   "source": [
    "#Question 8 Plots\n",
    "#Visualizing Summary Statistics by Age\n",
    "print(\"Visualizing Republican Percent Age 29 and Under\")\n",
    "repAgeVisual = data.loc[data['Party'].isin([\"0.0\"]), 'Percent Age 29 and Under']\n",
    "repAgeVisual.plot(kind=\"box\")"
   ]
  },
  {
   "cell_type": "code",
   "execution_count": 52,
   "metadata": {},
   "outputs": [
    {
     "name": "stdout",
     "output_type": "stream",
     "text": [
      "Visualizing Democratic Percent Age 65 and Older\n"
     ]
    },
    {
     "data": {
      "text/plain": [
       "<matplotlib.axes._subplots.AxesSubplot at 0x7fa1d60e8820>"
      ]
     },
     "execution_count": 52,
     "metadata": {},
     "output_type": "execute_result"
    },
    {
     "data": {
      "image/png": "[encoded data removed]",
      "text/plain": [
       "<Figure size 432x288 with 1 Axes>"
      ]
     },
     "metadata": {
      "needs_background": "light"
     },
     "output_type": "display_data"
    }
   ],
   "source": [
    "#Question 8 Plots\n",
    "#Visualizing Summary Statistics by Age\n",
    "print(\"Visualizing Democratic Percent Age 65 and Older\")\n",
    "demAgeVisual2 = data.loc[data['Party'].isin([\"1.0\"]), 'Percent Age 65 and Older']\n",
    "demAgeVisual2.plot(kind=\"box\")"
   ]
  },
  {
   "cell_type": "code",
   "execution_count": 64,
   "metadata": {},
   "outputs": [
    {
     "name": "stdout",
     "output_type": "stream",
     "text": [
      "Visualizing Republican Percent Age 65 and Older\n"
     ]
    },
    {
     "data": {
      "text/plain": [
       "<matplotlib.axes._subplots.AxesSubplot at 0x7fa1bc1ff700>"
      ]
     },
     "execution_count": 64,
     "metadata": {},
     "output_type": "execute_result"
    },
    {
     "data": {
      "image/png": "[encoded data removed]",
      "text/plain": [
       "<Figure size 432x288 with 1 Axes>"
      ]
     },
     "metadata": {
      "needs_background": "light"
     },
     "output_type": "display_data"
    }
   ],
   "source": [
    "#Question 8 Plots\n",
    "#Visualizing Summary Statistics by Age\n",
    "print(\"Visualizing Republican Percent Age 65 and Older\")\n",
    "repAgeVisual2 = data.loc[data['Party'].isin([\"0.0\"]), 'Percent Age 65 and Older']\n",
    "repAgeVisual2.plot(kind='box')"
   ]
  },
  {
   "cell_type": "code",
   "execution_count": 75,
   "metadata": {},
   "outputs": [
    {
     "name": "stdout",
     "output_type": "stream",
     "text": [
      "Visualizing Demoractic Gender\n"
     ]
    },
    {
     "data": {
      "text/plain": [
       "<matplotlib.axes._subplots.AxesSubplot at 0x7fa1bcb073d0>"
      ]
     },
     "execution_count": 75,
     "metadata": {},
     "output_type": "execute_result"
    },
    {
     "data": {
      "image/png": "[encoded data removed]",
      "text/plain": [
       "<Figure size 432x288 with 1 Axes>"
      ]
     },
     "metadata": {
      "needs_background": "light"
     },
     "output_type": "display_data"
    }
   ],
   "source": [
    "#Question 8 Plot\n",
    "#Visualizing Democratic Gender \n",
    "demGenderVisual = data.loc[data['Party'].isin([\"1.0\"]), 'Percent Female']\n",
    "repGenderVisual = data.loc[data['Party'].isin([\"0.0\"]), 'Percent Female']\n",
    "print(\"Visualizing Demoractic Gender\")\n",
    "demGenderVisual.plot(kind='box')"
   ]
  },
  {
   "cell_type": "code",
   "execution_count": 74,
   "metadata": {},
   "outputs": [
    {
     "name": "stdout",
     "output_type": "stream",
     "text": [
      "Visualizing Republican Gender\n"
     ]
    },
    {
     "data": {
      "text/plain": [
       "<matplotlib.axes._subplots.AxesSubplot at 0x7fa1bc9bafa0>"
      ]
     },
     "execution_count": 74,
     "metadata": {},
     "output_type": "execute_result"
    },
    {
     "data": {
      "image/png": "[encoded data removed]",
      "text/plain": [
       "<Figure size 432x288 with 1 Axes>"
      ]
     },
     "metadata": {
      "needs_background": "light"
     },
     "output_type": "display_data"
    }
   ],
   "source": [
    "#Question 8 Plot\n",
    "#Visualizing Republican Gender \n",
    "print(\"Visualizing Republican Gender\")\n",
    "repGenderVisual = data.loc[data['Party'].isin([\"0.0\"]), 'Percent Female']\n",
    "repGenderVisual.plot(kind='box')"
   ]
  },
  {
   "cell_type": "code",
   "execution_count": 90,
   "metadata": {},
   "outputs": [
    {
     "name": "stdout",
     "output_type": "stream",
     "text": [
      "Visualizing Democratic Percent White\n"
     ]
    },
    {
     "data": {
      "text/plain": [
       "<matplotlib.axes._subplots.AxesSubplot at 0x7fa1bb6cdd60>"
      ]
     },
     "execution_count": 90,
     "metadata": {},
     "output_type": "execute_result"
    },
    {
     "data": {
      "image/png": "[encoded data removed]",
      "text/plain": [
       "<Figure size 432x288 with 1 Axes>"
      ]
     },
     "metadata": {
      "needs_background": "light"
     },
     "output_type": "display_data"
    }
   ],
   "source": [
    "#Question 8 Summary Plot\n",
    "#Visualizing Democratic Percent White, not Hispanic or Latino\n",
    "print(\"Visualizing Democratic Percent White\")\n",
    "demPercentWhiteVisual = data.loc[data['Party'].isin([\"1.0\"]), 'Percent White, not Hispanic or Latino']\n",
    "demPercentWhiteVisual.plot(kind='box')\n"
   ]
  },
  {
   "cell_type": "code",
   "execution_count": 89,
   "metadata": {},
   "outputs": [
    {
     "name": "stdout",
     "output_type": "stream",
     "text": [
      "Visualizing Democratic Percent Black\n"
     ]
    },
    {
     "data": {
      "text/plain": [
       "<matplotlib.axes._subplots.AxesSubplot at 0x7fa1bada4df0>"
      ]
     },
     "execution_count": 89,
     "metadata": {},
     "output_type": "execute_result"
    },
    {
     "data": {
      "image/png": "[encoded data removed]",
      "text/plain": [
       "<Figure size 432x288 with 1 Axes>"
      ]
     },
     "metadata": {
      "needs_background": "light"
     },
     "output_type": "display_data"
    }
   ],
   "source": [
    "#Question 8 Summary Statistics\n",
    "#Visualizing Democratic Percent Black, not Hispanic or Latino\n",
    "print(\"Visualizing Democratic Percent Black\")\n",
    "demPercentBlackVisual = data.loc[data['Party'].isin([\"1.0\"]), 'Percent Black, not Hispanic or Latino']\n",
    "demPercentBlackVisual.plot(kind='box')"
   ]
  },
  {
   "cell_type": "code",
   "execution_count": 88,
   "metadata": {},
   "outputs": [
    {
     "name": "stdout",
     "output_type": "stream",
     "text": [
      "Visualizing Democratic Percent Hispanic\n"
     ]
    },
    {
     "data": {
      "text/plain": [
       "<matplotlib.axes._subplots.AxesSubplot at 0x7fa1bd4eb520>"
      ]
     },
     "execution_count": 88,
     "metadata": {},
     "output_type": "execute_result"
    },
    {
     "data": {
      "image/png": "[encoded data removed]",
      "text/plain": [
       "<Figure size 432x288 with 1 Axes>"
      ]
     },
     "metadata": {
      "needs_background": "light"
     },
     "output_type": "display_data"
    }
   ],
   "source": [
    "#Question 8 Summary Statistics\n",
    "#Visualizing Democratic Percent Hispanic or Latino\n",
    "print(\"Visualizing Democratic Percent Hispanic\")\n",
    "demPercentHispanicVisual = data.loc[data['Party'].isin([\"1.0\"]), 'Percent Hispanic or Latino']\n",
    "demPercentHispanicVisual.plot(kind='box')"
   ]
  },
  {
   "cell_type": "code",
   "execution_count": 87,
   "metadata": {},
   "outputs": [
    {
     "name": "stdout",
     "output_type": "stream",
     "text": [
      "Visualizing Republican Percent White\n"
     ]
    },
    {
     "data": {
      "image/png": "[encoded data removed]",
      "text/plain": [
       "<Figure size 432x288 with 1 Axes>"
      ]
     },
     "metadata": {
      "needs_background": "light"
     },
     "output_type": "display_data"
    }
   ],
   "source": [
    "#Question 8 Summary Plot\n",
    "#Visualizing Republican Percent White, not Hispanic or Latino\n",
    "print(\"Visualizing Republican Percent White\")\n",
    "repPercentWhiteVisual = data.loc[data['Party'].isin([\"0.0\"]), 'Percent White, not Hispanic or Latino']\n",
    "repPercentWhiteVisual.plot(kind='box')\n",
    "repPercentHispanic = data.loc[data['Party'].isin([\"0.0\"]), 'Percent Hispanic or Latino']"
   ]
  },
  {
   "cell_type": "code",
   "execution_count": 85,
   "metadata": {},
   "outputs": [
    {
     "name": "stdout",
     "output_type": "stream",
     "text": [
      "Visualizing Republican Percent Black\n"
     ]
    },
    {
     "data": {
      "text/plain": [
       "<matplotlib.axes._subplots.AxesSubplot at 0x7fa1bd1b60a0>"
      ]
     },
     "execution_count": 85,
     "metadata": {},
     "output_type": "execute_result"
    },
    {
     "data": {
      "image/png": "[encoded data removed]",
      "text/plain": [
       "<Figure size 432x288 with 1 Axes>"
      ]
     },
     "metadata": {
      "needs_background": "light"
     },
     "output_type": "display_data"
    }
   ],
   "source": [
    "#Question 8 Summary Plot\n",
    "#Visualizing Republican Percent Black, not Hispanic or Latino\n",
    "print(\"Visualizing Republican Percent Black\")\n",
    "repPercentBlackVisual = data.loc[data['Party'].isin([\"0.0\"]), 'Percent Black, not Hispanic or Latino']\n",
    "repPercentBlackVisual.plot(kind='box')\n"
   ]
  },
  {
   "cell_type": "code",
   "execution_count": 86,
   "metadata": {},
   "outputs": [
    {
     "name": "stdout",
     "output_type": "stream",
     "text": [
      "Visualizing Republican Percent Hispanic\n"
     ]
    },
    {
     "data": {
      "text/plain": [
       "<matplotlib.axes._subplots.AxesSubplot at 0x7fa1bd2ea340>"
      ]
     },
     "execution_count": 86,
     "metadata": {},
     "output_type": "execute_result"
    },
    {
     "data": {
      "image/png": "[encoded data removed]",
      "text/plain": [
       "<Figure size 432x288 with 1 Axes>"
      ]
     },
     "metadata": {
      "needs_background": "light"
     },
     "output_type": "display_data"
    }
   ],
   "source": [
    "#Question 8 Summary Plot\n",
    "#Visualizing Republican Percent Hispanic\n",
    "print(\"Visualizing Republican Percent Hispanic\")\n",
    "repPercentHispanicVisual = data.loc[data['Party'].isin([\"0.0\"]), 'Percent Hispanic or Latino']\n",
    "repPercentHispanicVisual.plot(kind='box')"
   ]
  },
  {
   "cell_type": "code",
   "execution_count": 92,
   "metadata": {},
   "outputs": [
    {
     "data": {
      "text/plain": [
       "<matplotlib.axes._subplots.AxesSubplot at 0x7fa1bcbbcdf0>"
      ]
     },
     "execution_count": 92,
     "metadata": {},
     "output_type": "execute_result"
    },
    {
     "data": {
      "image/png": "[encoded data removed]",
      "text/plain": [
       "<Figure size 432x288 with 1 Axes>"
      ]
     },
     "metadata": {
      "needs_background": "light"
     },
     "output_type": "display_data"
    }
   ],
   "source": [
    "#Question 8 Summary Plot\n",
    "#Visualizing Democratic Percent Less than High School Degree\n",
    "demHighSchoolVisual = data.loc[data['Party'].isin([\"1.0\"]), 'Percent Less than High School Degree']\n",
    "demHighSchoolVisual.plot(kind='box')"
   ]
  },
  {
   "cell_type": "code",
   "execution_count": 91,
   "metadata": {},
   "outputs": [
    {
     "data": {
      "text/plain": [
       "<matplotlib.axes._subplots.AxesSubplot at 0x7fa1bcedb1c0>"
      ]
     },
     "execution_count": 91,
     "metadata": {},
     "output_type": "execute_result"
    },
    {
     "data": {
      "image/png": "[encoded data removed]",
      "text/plain": [
       "<Figure size 432x288 with 1 Axes>"
      ]
     },
     "metadata": {
      "needs_background": "light"
     },
     "output_type": "display_data"
    }
   ],
   "source": [
    "#Question 8 Summary Plot\n",
    "#Visualizing Democratic Percent Less than Bachelors Degree\n",
    "demBachelorsVisual = data.loc[data['Party'].isin([\"1.0\"]), \"Percent Less than Bachelor's Degree\"]\n",
    "demBachelorsVisual.plot(kind='box')"
   ]
  },
  {
   "cell_type": "code",
   "execution_count": 93,
   "metadata": {},
   "outputs": [
    {
     "data": {
      "text/plain": [
       "<matplotlib.axes._subplots.AxesSubplot at 0x7fa1bb144bb0>"
      ]
     },
     "execution_count": 93,
     "metadata": {},
     "output_type": "execute_result"
    },
    {
     "data": {
      "image/png": "[encoded data removed]",
      "text/plain": [
       "<Figure size 432x288 with 1 Axes>"
      ]
     },
     "metadata": {
      "needs_background": "light"
     },
     "output_type": "display_data"
    }
   ],
   "source": [
    "#Question 8 Summary Plot\n",
    "#Visualizing Republican Percent Percent Less than High School Degree\n",
    "repHighSchoolVisual = data.loc[data['Party'].isin([\"0.0\"]), 'Percent Less than High School Degree']\n",
    "repHighSchoolVisual.plot(kind='box')"
   ]
  },
  {
   "cell_type": "code",
   "execution_count": 94,
   "metadata": {},
   "outputs": [
    {
     "data": {
      "text/plain": [
       "<matplotlib.axes._subplots.AxesSubplot at 0x7fa1bb558370>"
      ]
     },
     "execution_count": 94,
     "metadata": {},
     "output_type": "execute_result"
    },
    {
     "data": {
      "image/png": "[encoded data removed]",
      "text/plain": [
       "<Figure size 432x288 with 1 Axes>"
      ]
     },
     "metadata": {
      "needs_background": "light"
     },
     "output_type": "display_data"
    }
   ],
   "source": [
    "#Question 8 Summary Plot\n",
    "#Visualizing Republican Percent Percent Less than Bachelor's Degree\n",
    "repBachelorsVisual = data.loc[data['Party'].isin([\"0.0\"]), \"Percent Less than Bachelor's Degree\"]\n",
    "repBachelorsVisual.plot(kind='box')"
   ]
  },
  {
   "cell_type": "code",
   "execution_count": null,
   "metadata": {},
   "outputs": [],
   "source": []
  }
 ],
 "metadata": {
  "kernelspec": {
   "display_name": "Python 3",
   "language": "python",
   "name": "python3"
  },
  "language_info": {
   "codemirror_mode": {
    "name": "ipython",
    "version": 3
   },
   "file_extension": ".py",
   "mimetype": "text/x-python",
   "name": "python",
   "nbconvert_exporter": "python",
   "pygments_lexer": "ipython3",
   "version": "3.8.3"
  }
 },
 "nbformat": 4,
 "nbformat_minor": 4
}
